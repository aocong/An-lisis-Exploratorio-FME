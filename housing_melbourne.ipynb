{
 "cells": [
  {
   "cell_type": "markdown",
   "metadata": {},
   "source": [
    "## Máster Big Data - Fundamentos matemáticos del análisis de datos"
   ]
  },
  {
   "cell_type": "markdown",
   "metadata": {},
   "source": [
    "### Proyecto de la asignatura"
   ]
  },
  {
   "cell_type": "markdown",
   "metadata": {},
   "source": [
    "#### Melbourne Housing Market Data"
   ]
  },
  {
   "cell_type": "markdown",
   "metadata": {},
   "source": [
    "Los datos originales pueden encontrarse [aquí](https://www.kaggle.com/anthonypino/melbourne-housing-market)."
   ]
  },
  {
   "cell_type": "markdown",
   "metadata": {},
   "source": [
    "Los datos, disponibles públicamente, fueron adquiridos mediante _web scrapping_ de [domain.com.au](domain.com.au). Antes de ser publicados en Kaggle fueron tratados para facilitar su uso. El conjunto de datos incluye:\n",
    "- Dirección (Address)\n",
    "- Tipo de propiedad (Type of Real estate)\n",
    "- Barrio (Suburb)\n",
    "- Método de venta (Method of Selling)\n",
    "- Habitaciones (Rooms)\n",
    "- Precio (Price)\n",
    "- Agente (Real estate agent)\n",
    "- Fecha de venta (Date of sale)\n",
    "- Distancia de C.B.D. (Distance from C.B.D.)"
   ]
  },
  {
   "cell_type": "markdown",
   "metadata": {},
   "source": [
    "###### En Kaggle se incluyen el nombre de las variables y una breve descripción de su contenido.\n",
    "\n",
    "- **Suburb**: Suburb\n",
    "- **Address**: Address\n",
    "- **Rooms**: Number of rooms\n",
    "- **Price**: Price in Australian dollars\n",
    "- **Method**:\n",
    "    - S - property sold\n",
    "    - SP - property sold prior\n",
    "    - PI - property passed in\n",
    "    - PN - sold prior not disclosed\n",
    "    - SN - sold not disclosed\n",
    "    - NB - no bid\n",
    "    - VB - vendor bid\n",
    "    - W - withdrawn prior to auction\n",
    "    - SA - sold after auction\n",
    "    - SS - sold after auction price not disclosed.\n",
    "    - N/A - price or highest bid not available.\n",
    "- **Type**:\n",
    "    - br - bedroom(s)\n",
    "    - h - house,cottage,villa, semi,terrace\n",
    "    - u - unit, duplex\n",
    "    - t - townhouse\n",
    "    - dev site - development site\n",
    "    - o res - other residential.\n",
    "- **SellerG**: Real Estate Agent\n",
    "- **Date**: Date sold\n",
    "- **Distance**: Distance from CBD in Kilometres\n",
    "- **Regionname**: General Region (West, North West, North, North east …etc)\n",
    "- **Propertycount**: Number of properties that exist in the suburb.\n",
    "- **Bedroom2**: Scraped # of Bedrooms (from different source)\n",
    "- **Bathroom**: Number of Bathrooms\n",
    "- **Car**: Number of carspots\n",
    "- **Landsize**: Land Size in Metres\n",
    "- **BuildingArea**: Building Size in Metres\n",
    "- **YearBuilt**: Year the house was built\n",
    "- **CouncilArea**: Governing council for the area\n",
    "- **Lattitude**: Self explanitory\n",
    "- **Longtitude**: Self explanitory"
   ]
  },
  {
   "cell_type": "code",
   "execution_count": null,
   "metadata": {},
   "outputs": [],
   "source": [
    "# install.packages('tidyverse')\n",
    "# install.packages('corrplot')\n",
    "# install.packages('lubridate')"
   ]
  },
  {
   "cell_type": "code",
   "execution_count": 1,
   "metadata": {},
   "outputs": [
    {
     "name": "stderr",
     "output_type": "stream",
     "text": [
      "Warning message:\n",
      "\"package 'tidyverse' was built under R version 3.6.3\"-- Attaching packages ------------------------------------------------------------------------------- tidyverse 1.3.0 --\n",
      "v ggplot2 3.3.2     v purrr   0.3.4\n",
      "v tibble  3.0.4     v dplyr   1.0.2\n",
      "v tidyr   1.1.2     v stringr 1.4.0\n",
      "v readr   1.4.0     v forcats 0.5.0\n",
      "Warning message:\n",
      "\"package 'ggplot2' was built under R version 3.6.3\"Warning message:\n",
      "\"package 'tibble' was built under R version 3.6.3\"Warning message:\n",
      "\"package 'tidyr' was built under R version 3.6.3\"Warning message:\n",
      "\"package 'readr' was built under R version 3.6.3\"Warning message:\n",
      "\"package 'purrr' was built under R version 3.6.3\"Warning message:\n",
      "\"package 'dplyr' was built under R version 3.6.3\"Warning message:\n",
      "\"package 'stringr' was built under R version 3.6.3\"Warning message:\n",
      "\"package 'forcats' was built under R version 3.6.3\"-- Conflicts ---------------------------------------------------------------------------------- tidyverse_conflicts() --\n",
      "x dplyr::filter() masks stats::filter()\n",
      "x dplyr::lag()    masks stats::lag()\n",
      "Warning message:\n",
      "\"package 'corrplot' was built under R version 3.6.3\"corrplot 0.84 loaded\n",
      "Warning message:\n",
      "\"package 'lubridate' was built under R version 3.6.3\"\n",
      "Attaching package: 'lubridate'\n",
      "\n",
      "The following objects are masked from 'package:base':\n",
      "\n",
      "    date, intersect, setdiff, union\n",
      "\n"
     ]
    }
   ],
   "source": [
    "library(tidyverse)\n",
    "library(corrplot)\n",
    "library(lubridate)"
   ]
  },
  {
   "cell_type": "code",
   "execution_count": 2,
   "metadata": {},
   "outputs": [
    {
     "name": "stderr",
     "output_type": "stream",
     "text": [
      "\n",
      "-- Column specification ------------------------------------------------------------------------------------------------\n",
      "cols(\n",
      "  .default = col_double(),\n",
      "  Suburb = col_character(),\n",
      "  Address = col_character(),\n",
      "  Type = col_character(),\n",
      "  Method = col_character(),\n",
      "  SellerG = col_character(),\n",
      "  Date = col_character(),\n",
      "  CouncilArea = col_character(),\n",
      "  Regionname = col_character()\n",
      ")\n",
      "i Use `spec()` for the full column specifications.\n",
      "\n",
      "Warning message:\n",
      "\"5 parsing failures.\n",
      "  row           col expected actual                                file\n",
      "18524 Propertycount a double   #N/A './data/Melbourne_housing_FULL.csv'\n",
      "26889 Propertycount a double   #N/A './data/Melbourne_housing_FULL.csv'\n",
      "29484 Distance      a double   #N/A './data/Melbourne_housing_FULL.csv'\n",
      "29484 Postcode      a double   #N/A './data/Melbourne_housing_FULL.csv'\n",
      "29484 Propertycount a double   #N/A './data/Melbourne_housing_FULL.csv'\n",
      "\""
     ]
    }
   ],
   "source": [
    "hfull = read_csv(\"./data/Melbourne_housing_FULL.csv\")"
   ]
  },
  {
   "cell_type": "code",
   "execution_count": 3,
   "metadata": {},
   "outputs": [
    {
     "data": {
      "text/html": [
       "<table>\n",
       "<thead><tr><th scope=col>Suburb</th><th scope=col>Address</th><th scope=col>Rooms</th><th scope=col>Type</th><th scope=col>Price</th><th scope=col>Method</th><th scope=col>SellerG</th><th scope=col>Date</th><th scope=col>Distance</th><th scope=col>Postcode</th><th scope=col>...</th><th scope=col>Bathroom</th><th scope=col>Car</th><th scope=col>Landsize</th><th scope=col>BuildingArea</th><th scope=col>YearBuilt</th><th scope=col>CouncilArea</th><th scope=col>Lattitude</th><th scope=col>Longtitude</th><th scope=col>Regionname</th><th scope=col>Propertycount</th></tr></thead>\n",
       "<tbody>\n",
       "\t<tr><td>Abbotsford           </td><td>68 Studley St        </td><td>2                    </td><td>h                    </td><td>     NA              </td><td>SS                   </td><td>Jellis               </td><td>3/09/2016            </td><td>2.5                  </td><td>3067                 </td><td>...                  </td><td>1                    </td><td>1                    </td><td>126                  </td><td> NA                  </td><td>  NA                 </td><td>Yarra City Council   </td><td>-37.8014             </td><td>144.9958             </td><td>Northern Metropolitan</td><td>4019                 </td></tr>\n",
       "\t<tr><td>Abbotsford           </td><td>85 Turner St         </td><td>2                    </td><td>h                    </td><td>1480000              </td><td>S                    </td><td>Biggin               </td><td>3/12/2016            </td><td>2.5                  </td><td>3067                 </td><td>...                  </td><td>1                    </td><td>1                    </td><td>202                  </td><td> NA                  </td><td>  NA                 </td><td>Yarra City Council   </td><td>-37.7996             </td><td>144.9984             </td><td>Northern Metropolitan</td><td>4019                 </td></tr>\n",
       "\t<tr><td>Abbotsford           </td><td>25 Bloomburg St      </td><td>2                    </td><td>h                    </td><td>1035000              </td><td>S                    </td><td>Biggin               </td><td>4/02/2016            </td><td>2.5                  </td><td>3067                 </td><td>...                  </td><td>1                    </td><td>0                    </td><td>156                  </td><td> 79                  </td><td>1900                 </td><td>Yarra City Council   </td><td>-37.8079             </td><td>144.9934             </td><td>Northern Metropolitan</td><td>4019                 </td></tr>\n",
       "\t<tr><td>Abbotsford           </td><td>18/659 Victoria St   </td><td>3                    </td><td>u                    </td><td>     NA              </td><td>VB                   </td><td>Rounds               </td><td>4/02/2016            </td><td>2.5                  </td><td>3067                 </td><td>...                  </td><td>2                    </td><td>1                    </td><td>  0                  </td><td> NA                  </td><td>  NA                 </td><td>Yarra City Council   </td><td>-37.8114             </td><td>145.0116             </td><td>Northern Metropolitan</td><td>4019                 </td></tr>\n",
       "\t<tr><td>Abbotsford           </td><td>5 Charles St         </td><td>3                    </td><td>h                    </td><td>1465000              </td><td>SP                   </td><td>Biggin               </td><td>4/03/2017            </td><td>2.5                  </td><td>3067                 </td><td>...                  </td><td>2                    </td><td>0                    </td><td>134                  </td><td>150                  </td><td>1900                 </td><td>Yarra City Council   </td><td>-37.8093             </td><td>144.9944             </td><td>Northern Metropolitan</td><td>4019                 </td></tr>\n",
       "\t<tr><td>Abbotsford           </td><td>40 Federation La     </td><td>3                    </td><td>h                    </td><td> 850000              </td><td>PI                   </td><td>Biggin               </td><td>4/03/2017            </td><td>2.5                  </td><td>3067                 </td><td>...                  </td><td>2                    </td><td>1                    </td><td> 94                  </td><td> NA                  </td><td>  NA                 </td><td>Yarra City Council   </td><td>-37.7969             </td><td>144.9969             </td><td>Northern Metropolitan</td><td>4019                 </td></tr>\n",
       "</tbody>\n",
       "</table>\n"
      ],
      "text/latex": [
       "\\begin{tabular}{r|lllllllllllllllllllll}\n",
       " Suburb & Address & Rooms & Type & Price & Method & SellerG & Date & Distance & Postcode & ... & Bathroom & Car & Landsize & BuildingArea & YearBuilt & CouncilArea & Lattitude & Longtitude & Regionname & Propertycount\\\\\n",
       "\\hline\n",
       "\t Abbotsford            & 68 Studley St         & 2                     & h                     &      NA               & SS                    & Jellis                & 3/09/2016             & 2.5                   & 3067                  & ...                   & 1                     & 1                     & 126                   &  NA                   &   NA                  & Yarra City Council    & -37.8014              & 144.9958              & Northern Metropolitan & 4019                 \\\\\n",
       "\t Abbotsford            & 85 Turner St          & 2                     & h                     & 1480000               & S                     & Biggin                & 3/12/2016             & 2.5                   & 3067                  & ...                   & 1                     & 1                     & 202                   &  NA                   &   NA                  & Yarra City Council    & -37.7996              & 144.9984              & Northern Metropolitan & 4019                 \\\\\n",
       "\t Abbotsford            & 25 Bloomburg St       & 2                     & h                     & 1035000               & S                     & Biggin                & 4/02/2016             & 2.5                   & 3067                  & ...                   & 1                     & 0                     & 156                   &  79                   & 1900                  & Yarra City Council    & -37.8079              & 144.9934              & Northern Metropolitan & 4019                 \\\\\n",
       "\t Abbotsford            & 18/659 Victoria St    & 3                     & u                     &      NA               & VB                    & Rounds                & 4/02/2016             & 2.5                   & 3067                  & ...                   & 2                     & 1                     &   0                   &  NA                   &   NA                  & Yarra City Council    & -37.8114              & 145.0116              & Northern Metropolitan & 4019                 \\\\\n",
       "\t Abbotsford            & 5 Charles St          & 3                     & h                     & 1465000               & SP                    & Biggin                & 4/03/2017             & 2.5                   & 3067                  & ...                   & 2                     & 0                     & 134                   & 150                   & 1900                  & Yarra City Council    & -37.8093              & 144.9944              & Northern Metropolitan & 4019                 \\\\\n",
       "\t Abbotsford            & 40 Federation La      & 3                     & h                     &  850000               & PI                    & Biggin                & 4/03/2017             & 2.5                   & 3067                  & ...                   & 2                     & 1                     &  94                   &  NA                   &   NA                  & Yarra City Council    & -37.7969              & 144.9969              & Northern Metropolitan & 4019                 \\\\\n",
       "\\end{tabular}\n"
      ],
      "text/markdown": [
       "\n",
       "| Suburb | Address | Rooms | Type | Price | Method | SellerG | Date | Distance | Postcode | ... | Bathroom | Car | Landsize | BuildingArea | YearBuilt | CouncilArea | Lattitude | Longtitude | Regionname | Propertycount |\n",
       "|---|---|---|---|---|---|---|---|---|---|---|---|---|---|---|---|---|---|---|---|---|\n",
       "| Abbotsford            | 68 Studley St         | 2                     | h                     |      NA               | SS                    | Jellis                | 3/09/2016             | 2.5                   | 3067                  | ...                   | 1                     | 1                     | 126                   |  NA                   |   NA                  | Yarra City Council    | -37.8014              | 144.9958              | Northern Metropolitan | 4019                  |\n",
       "| Abbotsford            | 85 Turner St          | 2                     | h                     | 1480000               | S                     | Biggin                | 3/12/2016             | 2.5                   | 3067                  | ...                   | 1                     | 1                     | 202                   |  NA                   |   NA                  | Yarra City Council    | -37.7996              | 144.9984              | Northern Metropolitan | 4019                  |\n",
       "| Abbotsford            | 25 Bloomburg St       | 2                     | h                     | 1035000               | S                     | Biggin                | 4/02/2016             | 2.5                   | 3067                  | ...                   | 1                     | 0                     | 156                   |  79                   | 1900                  | Yarra City Council    | -37.8079              | 144.9934              | Northern Metropolitan | 4019                  |\n",
       "| Abbotsford            | 18/659 Victoria St    | 3                     | u                     |      NA               | VB                    | Rounds                | 4/02/2016             | 2.5                   | 3067                  | ...                   | 2                     | 1                     |   0                   |  NA                   |   NA                  | Yarra City Council    | -37.8114              | 145.0116              | Northern Metropolitan | 4019                  |\n",
       "| Abbotsford            | 5 Charles St          | 3                     | h                     | 1465000               | SP                    | Biggin                | 4/03/2017             | 2.5                   | 3067                  | ...                   | 2                     | 0                     | 134                   | 150                   | 1900                  | Yarra City Council    | -37.8093              | 144.9944              | Northern Metropolitan | 4019                  |\n",
       "| Abbotsford            | 40 Federation La      | 3                     | h                     |  850000               | PI                    | Biggin                | 4/03/2017             | 2.5                   | 3067                  | ...                   | 2                     | 1                     |  94                   |  NA                   |   NA                  | Yarra City Council    | -37.7969              | 144.9969              | Northern Metropolitan | 4019                  |\n",
       "\n"
      ],
      "text/plain": [
       "  Suburb     Address            Rooms Type Price   Method SellerG Date     \n",
       "1 Abbotsford 68 Studley St      2     h         NA SS     Jellis  3/09/2016\n",
       "2 Abbotsford 85 Turner St       2     h    1480000 S      Biggin  3/12/2016\n",
       "3 Abbotsford 25 Bloomburg St    2     h    1035000 S      Biggin  4/02/2016\n",
       "4 Abbotsford 18/659 Victoria St 3     u         NA VB     Rounds  4/02/2016\n",
       "5 Abbotsford 5 Charles St       3     h    1465000 SP     Biggin  4/03/2017\n",
       "6 Abbotsford 40 Federation La   3     h     850000 PI     Biggin  4/03/2017\n",
       "  Distance Postcode ... Bathroom Car Landsize BuildingArea YearBuilt\n",
       "1 2.5      3067     ... 1        1   126       NA            NA     \n",
       "2 2.5      3067     ... 1        1   202       NA            NA     \n",
       "3 2.5      3067     ... 1        0   156       79          1900     \n",
       "4 2.5      3067     ... 2        1     0       NA            NA     \n",
       "5 2.5      3067     ... 2        0   134      150          1900     \n",
       "6 2.5      3067     ... 2        1    94       NA            NA     \n",
       "  CouncilArea        Lattitude Longtitude Regionname            Propertycount\n",
       "1 Yarra City Council -37.8014  144.9958   Northern Metropolitan 4019         \n",
       "2 Yarra City Council -37.7996  144.9984   Northern Metropolitan 4019         \n",
       "3 Yarra City Council -37.8079  144.9934   Northern Metropolitan 4019         \n",
       "4 Yarra City Council -37.8114  145.0116   Northern Metropolitan 4019         \n",
       "5 Yarra City Council -37.8093  144.9944   Northern Metropolitan 4019         \n",
       "6 Yarra City Council -37.7969  144.9969   Northern Metropolitan 4019         "
      ]
     },
     "metadata": {},
     "output_type": "display_data"
    },
    {
     "data": {
      "text/html": [
       "<table>\n",
       "<thead><tr><th scope=col>Suburb</th><th scope=col>Address</th><th scope=col>Rooms</th><th scope=col>Type</th><th scope=col>Price</th><th scope=col>Method</th><th scope=col>SellerG</th><th scope=col>Date</th><th scope=col>Distance</th><th scope=col>Postcode</th><th scope=col>...</th><th scope=col>Bathroom</th><th scope=col>Car</th><th scope=col>Landsize</th><th scope=col>BuildingArea</th><th scope=col>YearBuilt</th><th scope=col>CouncilArea</th><th scope=col>Lattitude</th><th scope=col>Longtitude</th><th scope=col>Regionname</th><th scope=col>Propertycount</th></tr></thead>\n",
       "<tbody>\n",
       "\t<tr><td>Yarraville              </td><td>78 Bayview Rd           </td><td>3                       </td><td>h                       </td><td>1101000                 </td><td>S                       </td><td>Jas                     </td><td>24/02/2018              </td><td>6.3                     </td><td>3013                    </td><td>...                     </td><td> 1                      </td><td>NA                      </td><td>288                     </td><td> NA                     </td><td>  NA                    </td><td>Maribyrnong City Council</td><td>-37.81095               </td><td>144.8852                </td><td>Western Metropolitan    </td><td>6543                    </td></tr>\n",
       "\t<tr><td>Yarraville              </td><td>13 Burns St             </td><td>4                       </td><td>h                       </td><td>1480000                 </td><td>PI                      </td><td>Jas                     </td><td>24/02/2018              </td><td>6.3                     </td><td>3013                    </td><td>...                     </td><td> 1                      </td><td> 3                      </td><td>593                     </td><td> NA                     </td><td>  NA                    </td><td>Maribyrnong City Council</td><td>-37.81053               </td><td>144.8847                </td><td>Western Metropolitan    </td><td>6543                    </td></tr>\n",
       "\t<tr><td>Yarraville              </td><td>29A Murray St           </td><td>2                       </td><td>h                       </td><td> 888000                 </td><td>SP                      </td><td>Sweeney                 </td><td>24/02/2018              </td><td>6.3                     </td><td>3013                    </td><td>...                     </td><td> 2                      </td><td> 1                      </td><td> 98                     </td><td>104                     </td><td>2018                    </td><td>Maribyrnong City Council</td><td>-37.81551               </td><td>144.8883                </td><td>Western Metropolitan    </td><td>6543                    </td></tr>\n",
       "\t<tr><td>Yarraville              </td><td>147A Severn St          </td><td>2                       </td><td>t                       </td><td> 705000                 </td><td>S                       </td><td>Jas                     </td><td>24/02/2018              </td><td>6.3                     </td><td>3013                    </td><td>...                     </td><td> 1                      </td><td> 2                      </td><td>220                     </td><td>120                     </td><td>2000                    </td><td>Maribyrnong City Council</td><td>-37.82286               </td><td>144.8786                </td><td>Western Metropolitan    </td><td>6543                    </td></tr>\n",
       "\t<tr><td>Yarraville              </td><td>12/37 Stephen St        </td><td>3                       </td><td>h                       </td><td>1140000                 </td><td>SP                      </td><td>hockingstuart           </td><td>24/02/2018              </td><td>6.3                     </td><td>3013                    </td><td>...                     </td><td>NA                      </td><td>NA                      </td><td> NA                     </td><td> NA                     </td><td>  NA                    </td><td>Maribyrnong City Council</td><td>       NA               </td><td>      NA                </td><td>Western Metropolitan    </td><td>6543                    </td></tr>\n",
       "\t<tr><td>Yarraville              </td><td>3 Tarrengower St        </td><td>2                       </td><td>h                       </td><td>1020000                 </td><td>PI                      </td><td>RW                      </td><td>24/02/2018              </td><td>6.3                     </td><td>3013                    </td><td>...                     </td><td> 1                      </td><td> 0                      </td><td>250                     </td><td>103                     </td><td>1930                    </td><td>Maribyrnong City Council</td><td>-37.81810               </td><td>144.8935                </td><td>Western Metropolitan    </td><td>6543                    </td></tr>\n",
       "</tbody>\n",
       "</table>\n"
      ],
      "text/latex": [
       "\\begin{tabular}{r|lllllllllllllllllllll}\n",
       " Suburb & Address & Rooms & Type & Price & Method & SellerG & Date & Distance & Postcode & ... & Bathroom & Car & Landsize & BuildingArea & YearBuilt & CouncilArea & Lattitude & Longtitude & Regionname & Propertycount\\\\\n",
       "\\hline\n",
       "\t Yarraville               & 78 Bayview Rd            & 3                        & h                        & 1101000                  & S                        & Jas                      & 24/02/2018               & 6.3                      & 3013                     & ...                      &  1                       & NA                       & 288                      &  NA                      &   NA                     & Maribyrnong City Council & -37.81095                & 144.8852                 & Western Metropolitan     & 6543                    \\\\\n",
       "\t Yarraville               & 13 Burns St              & 4                        & h                        & 1480000                  & PI                       & Jas                      & 24/02/2018               & 6.3                      & 3013                     & ...                      &  1                       &  3                       & 593                      &  NA                      &   NA                     & Maribyrnong City Council & -37.81053                & 144.8847                 & Western Metropolitan     & 6543                    \\\\\n",
       "\t Yarraville               & 29A Murray St            & 2                        & h                        &  888000                  & SP                       & Sweeney                  & 24/02/2018               & 6.3                      & 3013                     & ...                      &  2                       &  1                       &  98                      & 104                      & 2018                     & Maribyrnong City Council & -37.81551                & 144.8883                 & Western Metropolitan     & 6543                    \\\\\n",
       "\t Yarraville               & 147A Severn St           & 2                        & t                        &  705000                  & S                        & Jas                      & 24/02/2018               & 6.3                      & 3013                     & ...                      &  1                       &  2                       & 220                      & 120                      & 2000                     & Maribyrnong City Council & -37.82286                & 144.8786                 & Western Metropolitan     & 6543                    \\\\\n",
       "\t Yarraville               & 12/37 Stephen St         & 3                        & h                        & 1140000                  & SP                       & hockingstuart            & 24/02/2018               & 6.3                      & 3013                     & ...                      & NA                       & NA                       &  NA                      &  NA                      &   NA                     & Maribyrnong City Council &        NA                &       NA                 & Western Metropolitan     & 6543                    \\\\\n",
       "\t Yarraville               & 3 Tarrengower St         & 2                        & h                        & 1020000                  & PI                       & RW                       & 24/02/2018               & 6.3                      & 3013                     & ...                      &  1                       &  0                       & 250                      & 103                      & 1930                     & Maribyrnong City Council & -37.81810                & 144.8935                 & Western Metropolitan     & 6543                    \\\\\n",
       "\\end{tabular}\n"
      ],
      "text/markdown": [
       "\n",
       "| Suburb | Address | Rooms | Type | Price | Method | SellerG | Date | Distance | Postcode | ... | Bathroom | Car | Landsize | BuildingArea | YearBuilt | CouncilArea | Lattitude | Longtitude | Regionname | Propertycount |\n",
       "|---|---|---|---|---|---|---|---|---|---|---|---|---|---|---|---|---|---|---|---|---|\n",
       "| Yarraville               | 78 Bayview Rd            | 3                        | h                        | 1101000                  | S                        | Jas                      | 24/02/2018               | 6.3                      | 3013                     | ...                      |  1                       | NA                       | 288                      |  NA                      |   NA                     | Maribyrnong City Council | -37.81095                | 144.8852                 | Western Metropolitan     | 6543                     |\n",
       "| Yarraville               | 13 Burns St              | 4                        | h                        | 1480000                  | PI                       | Jas                      | 24/02/2018               | 6.3                      | 3013                     | ...                      |  1                       |  3                       | 593                      |  NA                      |   NA                     | Maribyrnong City Council | -37.81053                | 144.8847                 | Western Metropolitan     | 6543                     |\n",
       "| Yarraville               | 29A Murray St            | 2                        | h                        |  888000                  | SP                       | Sweeney                  | 24/02/2018               | 6.3                      | 3013                     | ...                      |  2                       |  1                       |  98                      | 104                      | 2018                     | Maribyrnong City Council | -37.81551                | 144.8883                 | Western Metropolitan     | 6543                     |\n",
       "| Yarraville               | 147A Severn St           | 2                        | t                        |  705000                  | S                        | Jas                      | 24/02/2018               | 6.3                      | 3013                     | ...                      |  1                       |  2                       | 220                      | 120                      | 2000                     | Maribyrnong City Council | -37.82286                | 144.8786                 | Western Metropolitan     | 6543                     |\n",
       "| Yarraville               | 12/37 Stephen St         | 3                        | h                        | 1140000                  | SP                       | hockingstuart            | 24/02/2018               | 6.3                      | 3013                     | ...                      | NA                       | NA                       |  NA                      |  NA                      |   NA                     | Maribyrnong City Council |        NA                |       NA                 | Western Metropolitan     | 6543                     |\n",
       "| Yarraville               | 3 Tarrengower St         | 2                        | h                        | 1020000                  | PI                       | RW                       | 24/02/2018               | 6.3                      | 3013                     | ...                      |  1                       |  0                       | 250                      | 103                      | 1930                     | Maribyrnong City Council | -37.81810                | 144.8935                 | Western Metropolitan     | 6543                     |\n",
       "\n"
      ],
      "text/plain": [
       "  Suburb     Address          Rooms Type Price   Method SellerG      \n",
       "1 Yarraville 78 Bayview Rd    3     h    1101000 S      Jas          \n",
       "2 Yarraville 13 Burns St      4     h    1480000 PI     Jas          \n",
       "3 Yarraville 29A Murray St    2     h     888000 SP     Sweeney      \n",
       "4 Yarraville 147A Severn St   2     t     705000 S      Jas          \n",
       "5 Yarraville 12/37 Stephen St 3     h    1140000 SP     hockingstuart\n",
       "6 Yarraville 3 Tarrengower St 2     h    1020000 PI     RW           \n",
       "  Date       Distance Postcode ... Bathroom Car Landsize BuildingArea YearBuilt\n",
       "1 24/02/2018 6.3      3013     ...  1       NA  288       NA            NA     \n",
       "2 24/02/2018 6.3      3013     ...  1        3  593       NA            NA     \n",
       "3 24/02/2018 6.3      3013     ...  2        1   98      104          2018     \n",
       "4 24/02/2018 6.3      3013     ...  1        2  220      120          2000     \n",
       "5 24/02/2018 6.3      3013     ... NA       NA   NA       NA            NA     \n",
       "6 24/02/2018 6.3      3013     ...  1        0  250      103          1930     \n",
       "  CouncilArea              Lattitude Longtitude Regionname          \n",
       "1 Maribyrnong City Council -37.81095 144.8852   Western Metropolitan\n",
       "2 Maribyrnong City Council -37.81053 144.8847   Western Metropolitan\n",
       "3 Maribyrnong City Council -37.81551 144.8883   Western Metropolitan\n",
       "4 Maribyrnong City Council -37.82286 144.8786   Western Metropolitan\n",
       "5 Maribyrnong City Council        NA       NA   Western Metropolitan\n",
       "6 Maribyrnong City Council -37.81810 144.8935   Western Metropolitan\n",
       "  Propertycount\n",
       "1 6543         \n",
       "2 6543         \n",
       "3 6543         \n",
       "4 6543         \n",
       "5 6543         \n",
       "6 6543         "
      ]
     },
     "metadata": {},
     "output_type": "display_data"
    }
   ],
   "source": [
    "head(hfull)\n",
    "tail(hfull)"
   ]
  },
  {
   "cell_type": "code",
   "execution_count": 4,
   "metadata": {},
   "outputs": [
    {
     "data": {
      "text/html": [
       "<ol class=list-inline>\n",
       "\t<li>34857</li>\n",
       "\t<li>21</li>\n",
       "</ol>\n"
      ],
      "text/latex": [
       "\\begin{enumerate*}\n",
       "\\item 34857\n",
       "\\item 21\n",
       "\\end{enumerate*}\n"
      ],
      "text/markdown": [
       "1. 34857\n",
       "2. 21\n",
       "\n",
       "\n"
      ],
      "text/plain": [
       "[1] 34857    21"
      ]
     },
     "metadata": {},
     "output_type": "display_data"
    }
   ],
   "source": [
    "dim(hfull)"
   ]
  },
  {
   "cell_type": "markdown",
   "metadata": {},
   "source": [
    "Después de leer el archivo y realizar una breve inspección para ver que los datos se han cargado correctamente, comprobamos las dimensiones del conjunto de datos y vemos que contiene 34857 observaciones y 21 variables."
   ]
  },
  {
   "cell_type": "code",
   "execution_count": 5,
   "metadata": {
    "scrolled": true
   },
   "outputs": [
    {
     "name": "stdout",
     "output_type": "stream",
     "text": [
      "tibble [34,857 x 21] (S3: spec_tbl_df/tbl_df/tbl/data.frame)\n",
      " $ Suburb       : chr [1:34857] \"Abbotsford\" \"Abbotsford\" \"Abbotsford\" \"Abbotsford\" ...\n",
      " $ Address      : chr [1:34857] \"68 Studley St\" \"85 Turner St\" \"25 Bloomburg St\" \"18/659 Victoria St\" ...\n",
      " $ Rooms        : num [1:34857] 2 2 2 3 3 3 4 4 2 2 ...\n",
      " $ Type         : chr [1:34857] \"h\" \"h\" \"h\" \"u\" ...\n",
      " $ Price        : num [1:34857] NA 1480000 1035000 NA 1465000 ...\n",
      " $ Method       : chr [1:34857] \"SS\" \"S\" \"S\" \"VB\" ...\n",
      " $ SellerG      : chr [1:34857] \"Jellis\" \"Biggin\" \"Biggin\" \"Rounds\" ...\n",
      " $ Date         : chr [1:34857] \"3/09/2016\" \"3/12/2016\" \"4/02/2016\" \"4/02/2016\" ...\n",
      " $ Distance     : num [1:34857] 2.5 2.5 2.5 2.5 2.5 2.5 2.5 2.5 2.5 2.5 ...\n",
      " $ Postcode     : num [1:34857] 3067 3067 3067 3067 3067 ...\n",
      " $ Bedroom2     : num [1:34857] 2 2 2 3 3 3 3 3 4 3 ...\n",
      " $ Bathroom     : num [1:34857] 1 1 1 2 2 2 1 2 1 2 ...\n",
      " $ Car          : num [1:34857] 1 1 0 1 0 1 2 2 2 1 ...\n",
      " $ Landsize     : num [1:34857] 126 202 156 0 134 94 120 400 201 202 ...\n",
      " $ BuildingArea : num [1:34857] NA NA 79 NA 150 NA 142 220 NA NA ...\n",
      " $ YearBuilt    : num [1:34857] NA NA 1900 NA 1900 ...\n",
      " $ CouncilArea  : chr [1:34857] \"Yarra City Council\" \"Yarra City Council\" \"Yarra City Council\" \"Yarra City Council\" ...\n",
      " $ Lattitude    : num [1:34857] -37.8 -37.8 -37.8 -37.8 -37.8 ...\n",
      " $ Longtitude   : num [1:34857] 145 145 145 145 145 ...\n",
      " $ Regionname   : chr [1:34857] \"Northern Metropolitan\" \"Northern Metropolitan\" \"Northern Metropolitan\" \"Northern Metropolitan\" ...\n",
      " $ Propertycount: num [1:34857] 4019 4019 4019 4019 4019 ...\n",
      " - attr(*, \"problems\")= tibble [5 x 5] (S3: tbl_df/tbl/data.frame)\n",
      "  ..$ row     : int [1:5] 18524 26889 29484 29484 29484\n",
      "  ..$ col     : chr [1:5] \"Propertycount\" \"Propertycount\" \"Distance\" \"Postcode\" ...\n",
      "  ..$ expected: chr [1:5] \"a double\" \"a double\" \"a double\" \"a double\" ...\n",
      "  ..$ actual  : chr [1:5] \"#N/A\" \"#N/A\" \"#N/A\" \"#N/A\" ...\n",
      "  ..$ file    : chr [1:5] \"'./data/Melbourne_housing_FULL.csv'\" \"'./data/Melbourne_housing_FULL.csv'\" \"'./data/Melbourne_housing_FULL.csv'\" \"'./data/Melbourne_housing_FULL.csv'\" ...\n",
      " - attr(*, \"spec\")=\n",
      "  .. cols(\n",
      "  ..   Suburb = col_character(),\n",
      "  ..   Address = col_character(),\n",
      "  ..   Rooms = col_double(),\n",
      "  ..   Type = col_character(),\n",
      "  ..   Price = col_double(),\n",
      "  ..   Method = col_character(),\n",
      "  ..   SellerG = col_character(),\n",
      "  ..   Date = col_character(),\n",
      "  ..   Distance = col_double(),\n",
      "  ..   Postcode = col_double(),\n",
      "  ..   Bedroom2 = col_double(),\n",
      "  ..   Bathroom = col_double(),\n",
      "  ..   Car = col_double(),\n",
      "  ..   Landsize = col_double(),\n",
      "  ..   BuildingArea = col_double(),\n",
      "  ..   YearBuilt = col_double(),\n",
      "  ..   CouncilArea = col_character(),\n",
      "  ..   Lattitude = col_double(),\n",
      "  ..   Longtitude = col_double(),\n",
      "  ..   Regionname = col_character(),\n",
      "  ..   Propertycount = col_double()\n",
      "  .. )\n"
     ]
    }
   ],
   "source": [
    "str(hfull)"
   ]
  },
  {
   "cell_type": "markdown",
   "metadata": {},
   "source": [
    "Comprobamos cuántos valores ausentes presenta el conjunto de datos."
   ]
  },
  {
   "cell_type": "code",
   "execution_count": 6,
   "metadata": {},
   "outputs": [
    {
     "data": {
      "text/html": [
       "100969"
      ],
      "text/latex": [
       "100969"
      ],
      "text/markdown": [
       "100969"
      ],
      "text/plain": [
       "[1] 100969"
      ]
     },
     "metadata": {},
     "output_type": "display_data"
    },
    {
     "data": {
      "text/html": [
       "731997"
      ],
      "text/latex": [
       "731997"
      ],
      "text/markdown": [
       "731997"
      ],
      "text/plain": [
       "[1] 731997"
      ]
     },
     "metadata": {},
     "output_type": "display_data"
    }
   ],
   "source": [
    "sum(is.na(hfull)); dim(hfull)[1] * dim(hfull)[2]"
   ]
  },
  {
   "cell_type": "markdown",
   "metadata": {},
   "source": [
    "El orden de magnitud del número de valores ausentes es similar al del número de datos. Continuamos con la exploración, identificando cuántos valores ausentes hay en cada columna."
   ]
  },
  {
   "cell_type": "code",
   "execution_count": 7,
   "metadata": {},
   "outputs": [],
   "source": [
    "tot = sapply(hfull, function(x) sum(is.na(x)))\n",
    "len = sapply(hfull, function(x) length(x))\n",
    "per = format(round(sapply(hfull, function(x) sum(is.na(x))/length(x)), 2), nsmall = 2)"
   ]
  },
  {
   "cell_type": "code",
   "execution_count": 8,
   "metadata": {},
   "outputs": [
    {
     "data": {
      "text/html": [
       "<table>\n",
       "<thead><tr><th></th><th scope=col>tot</th><th scope=col>len</th><th scope=col>per</th></tr></thead>\n",
       "<tbody>\n",
       "\t<tr><th scope=row>Suburb</th><td>    0</td><td>34857</td><td>0.00 </td></tr>\n",
       "\t<tr><th scope=row>Address</th><td>    0</td><td>34857</td><td>0.00 </td></tr>\n",
       "\t<tr><th scope=row>Rooms</th><td>    0</td><td>34857</td><td>0.00 </td></tr>\n",
       "\t<tr><th scope=row>Type</th><td>    0</td><td>34857</td><td>0.00 </td></tr>\n",
       "\t<tr><th scope=row>Method</th><td>    0</td><td>34857</td><td>0.00 </td></tr>\n",
       "\t<tr><th scope=row>SellerG</th><td>    0</td><td>34857</td><td>0.00 </td></tr>\n",
       "\t<tr><th scope=row>Date</th><td>    0</td><td>34857</td><td>0.00 </td></tr>\n",
       "\t<tr><th scope=row>Distance</th><td>    1</td><td>34857</td><td>0.00 </td></tr>\n",
       "\t<tr><th scope=row>Postcode</th><td>    1</td><td>34857</td><td>0.00 </td></tr>\n",
       "\t<tr><th scope=row>CouncilArea</th><td>    0</td><td>34857</td><td>0.00 </td></tr>\n",
       "\t<tr><th scope=row>Regionname</th><td>    0</td><td>34857</td><td>0.00 </td></tr>\n",
       "\t<tr><th scope=row>Propertycount</th><td>    3</td><td>34857</td><td>0.00 </td></tr>\n",
       "\t<tr><th scope=row>Price</th><td> 7610</td><td>34857</td><td>0.22 </td></tr>\n",
       "\t<tr><th scope=row>Lattitude</th><td> 7976</td><td>34857</td><td>0.23 </td></tr>\n",
       "\t<tr><th scope=row>Longtitude</th><td> 7976</td><td>34857</td><td>0.23 </td></tr>\n",
       "\t<tr><th scope=row>Bedroom2</th><td> 8217</td><td>34857</td><td>0.24 </td></tr>\n",
       "\t<tr><th scope=row>Bathroom</th><td> 8226</td><td>34857</td><td>0.24 </td></tr>\n",
       "\t<tr><th scope=row>Car</th><td> 8728</td><td>34857</td><td>0.25 </td></tr>\n",
       "\t<tr><th scope=row>Landsize</th><td>11810</td><td>34857</td><td>0.34 </td></tr>\n",
       "\t<tr><th scope=row>YearBuilt</th><td>19306</td><td>34857</td><td>0.55 </td></tr>\n",
       "\t<tr><th scope=row>BuildingArea</th><td>21115</td><td>34857</td><td>0.61 </td></tr>\n",
       "</tbody>\n",
       "</table>\n"
      ],
      "text/latex": [
       "\\begin{tabular}{r|lll}\n",
       "  & tot & len & per\\\\\n",
       "\\hline\n",
       "\tSuburb &     0 & 34857 & 0.00 \\\\\n",
       "\tAddress &     0 & 34857 & 0.00 \\\\\n",
       "\tRooms &     0 & 34857 & 0.00 \\\\\n",
       "\tType &     0 & 34857 & 0.00 \\\\\n",
       "\tMethod &     0 & 34857 & 0.00 \\\\\n",
       "\tSellerG &     0 & 34857 & 0.00 \\\\\n",
       "\tDate &     0 & 34857 & 0.00 \\\\\n",
       "\tDistance &     1 & 34857 & 0.00 \\\\\n",
       "\tPostcode &     1 & 34857 & 0.00 \\\\\n",
       "\tCouncilArea &     0 & 34857 & 0.00 \\\\\n",
       "\tRegionname &     0 & 34857 & 0.00 \\\\\n",
       "\tPropertycount &     3 & 34857 & 0.00 \\\\\n",
       "\tPrice &  7610 & 34857 & 0.22 \\\\\n",
       "\tLattitude &  7976 & 34857 & 0.23 \\\\\n",
       "\tLongtitude &  7976 & 34857 & 0.23 \\\\\n",
       "\tBedroom2 &  8217 & 34857 & 0.24 \\\\\n",
       "\tBathroom &  8226 & 34857 & 0.24 \\\\\n",
       "\tCar &  8728 & 34857 & 0.25 \\\\\n",
       "\tLandsize & 11810 & 34857 & 0.34 \\\\\n",
       "\tYearBuilt & 19306 & 34857 & 0.55 \\\\\n",
       "\tBuildingArea & 21115 & 34857 & 0.61 \\\\\n",
       "\\end{tabular}\n"
      ],
      "text/markdown": [
       "\n",
       "| <!--/--> | tot | len | per |\n",
       "|---|---|---|---|\n",
       "| Suburb |     0 | 34857 | 0.00  |\n",
       "| Address |     0 | 34857 | 0.00  |\n",
       "| Rooms |     0 | 34857 | 0.00  |\n",
       "| Type |     0 | 34857 | 0.00  |\n",
       "| Method |     0 | 34857 | 0.00  |\n",
       "| SellerG |     0 | 34857 | 0.00  |\n",
       "| Date |     0 | 34857 | 0.00  |\n",
       "| Distance |     1 | 34857 | 0.00  |\n",
       "| Postcode |     1 | 34857 | 0.00  |\n",
       "| CouncilArea |     0 | 34857 | 0.00  |\n",
       "| Regionname |     0 | 34857 | 0.00  |\n",
       "| Propertycount |     3 | 34857 | 0.00  |\n",
       "| Price |  7610 | 34857 | 0.22  |\n",
       "| Lattitude |  7976 | 34857 | 0.23  |\n",
       "| Longtitude |  7976 | 34857 | 0.23  |\n",
       "| Bedroom2 |  8217 | 34857 | 0.24  |\n",
       "| Bathroom |  8226 | 34857 | 0.24  |\n",
       "| Car |  8728 | 34857 | 0.25  |\n",
       "| Landsize | 11810 | 34857 | 0.34  |\n",
       "| YearBuilt | 19306 | 34857 | 0.55  |\n",
       "| BuildingArea | 21115 | 34857 | 0.61  |\n",
       "\n"
      ],
      "text/plain": [
       "              tot   len   per \n",
       "Suburb            0 34857 0.00\n",
       "Address           0 34857 0.00\n",
       "Rooms             0 34857 0.00\n",
       "Type              0 34857 0.00\n",
       "Method            0 34857 0.00\n",
       "SellerG           0 34857 0.00\n",
       "Date              0 34857 0.00\n",
       "Distance          1 34857 0.00\n",
       "Postcode          1 34857 0.00\n",
       "CouncilArea       0 34857 0.00\n",
       "Regionname        0 34857 0.00\n",
       "Propertycount     3 34857 0.00\n",
       "Price          7610 34857 0.22\n",
       "Lattitude      7976 34857 0.23\n",
       "Longtitude     7976 34857 0.23\n",
       "Bedroom2       8217 34857 0.24\n",
       "Bathroom       8226 34857 0.24\n",
       "Car            8728 34857 0.25\n",
       "Landsize      11810 34857 0.34\n",
       "YearBuilt     19306 34857 0.55\n",
       "BuildingArea  21115 34857 0.61"
      ]
     },
     "metadata": {},
     "output_type": "display_data"
    }
   ],
   "source": [
    "valores_ausentes = data.frame(tot, len, per)\n",
    "valores_ausentes = arrange(valores_ausentes, per)\n",
    "valores_ausentes"
   ]
  },
  {
   "cell_type": "markdown",
   "metadata": {},
   "source": [
    "La variable **Price** presenta aproximadamente un 22% de los datos ausentes. Es un porcentaje alto y se trata de la variable de mayor interés para el análisis (la que queremos explicar), por lo que eliminaremos los registros que no contengan esta variable. De esta forma de las 34857 observaciones que teníamos inicialmente pasaremos a tener 27247 observaciones."
   ]
  },
  {
   "cell_type": "code",
   "execution_count": 9,
   "metadata": {},
   "outputs": [
    {
     "data": {
      "text/html": [
       "<ol class=list-inline>\n",
       "\t<li>27247</li>\n",
       "\t<li>21</li>\n",
       "</ol>\n"
      ],
      "text/latex": [
       "\\begin{enumerate*}\n",
       "\\item 27247\n",
       "\\item 21\n",
       "\\end{enumerate*}\n"
      ],
      "text/markdown": [
       "1. 27247\n",
       "2. 21\n",
       "\n",
       "\n"
      ],
      "text/plain": [
       "[1] 27247    21"
      ]
     },
     "metadata": {},
     "output_type": "display_data"
    }
   ],
   "source": [
    "hfull = hfull[!is.na(hfull$Price),]\n",
    "dim(hfull)"
   ]
  },
  {
   "cell_type": "markdown",
   "metadata": {},
   "source": [
    "**YearBuilt** y **BuildingArea** registran más de la mitad de los datos como ausentes. Aunque sean dos variables, a priori, interesantes para nuestro análisis, consideramos que los datos que tenemos no son suficientes y por ello eliminaremos las columnas correspondientes a estas variables, de forma que de las 21 variables que teníamos inicialmente pasaremos a tener 19 variables."
   ]
  },
  {
   "cell_type": "code",
   "execution_count": 10,
   "metadata": {},
   "outputs": [
    {
     "data": {
      "text/html": [
       "<ol class=list-inline>\n",
       "\t<li>27247</li>\n",
       "\t<li>19</li>\n",
       "</ol>\n"
      ],
      "text/latex": [
       "\\begin{enumerate*}\n",
       "\\item 27247\n",
       "\\item 19\n",
       "\\end{enumerate*}\n"
      ],
      "text/markdown": [
       "1. 27247\n",
       "2. 19\n",
       "\n",
       "\n"
      ],
      "text/plain": [
       "[1] 27247    19"
      ]
     },
     "metadata": {},
     "output_type": "display_data"
    }
   ],
   "source": [
    "hfull = hfull[,-which(colMeans(is.na(hfull)) >= 0.50)]\n",
    "dim(hfull)"
   ]
  },
  {
   "cell_type": "code",
   "execution_count": 11,
   "metadata": {},
   "outputs": [
    {
     "name": "stdout",
     "output_type": "stream",
     "text": [
      "tibble [27,247 x 19] (S3: tbl_df/tbl/data.frame)\n",
      " $ Suburb       : chr [1:27247] \"Abbotsford\" \"Abbotsford\" \"Abbotsford\" \"Abbotsford\" ...\n",
      " $ Address      : chr [1:27247] \"85 Turner St\" \"25 Bloomburg St\" \"5 Charles St\" \"40 Federation La\" ...\n",
      " $ Rooms        : num [1:27247] 2 2 3 3 4 2 3 2 3 2 ...\n",
      " $ Type         : chr [1:27247] \"h\" \"h\" \"h\" \"h\" ...\n",
      " $ Price        : num [1:27247] 1480000 1035000 1465000 850000 1600000 ...\n",
      " $ Method       : chr [1:27247] \"S\" \"S\" \"SP\" \"PI\" ...\n",
      " $ SellerG      : chr [1:27247] \"Biggin\" \"Biggin\" \"Biggin\" \"Biggin\" ...\n",
      " $ Date         : chr [1:27247] \"3/12/2016\" \"4/02/2016\" \"4/03/2017\" \"4/03/2017\" ...\n",
      " $ Distance     : num [1:27247] 2.5 2.5 2.5 2.5 2.5 2.5 2.5 2.5 2.5 2.5 ...\n",
      " $ Postcode     : num [1:27247] 3067 3067 3067 3067 3067 ...\n",
      " $ Bedroom2     : num [1:27247] 2 2 3 3 3 2 4 2 NA NA ...\n",
      " $ Bathroom     : num [1:27247] 1 1 2 2 1 1 2 1 NA NA ...\n",
      " $ Car          : num [1:27247] 1 0 0 1 2 0 0 2 NA NA ...\n",
      " $ Landsize     : num [1:27247] 202 156 134 94 120 181 245 256 NA NA ...\n",
      " $ CouncilArea  : chr [1:27247] \"Yarra City Council\" \"Yarra City Council\" \"Yarra City Council\" \"Yarra City Council\" ...\n",
      " $ Lattitude    : num [1:27247] -37.8 -37.8 -37.8 -37.8 -37.8 ...\n",
      " $ Longtitude   : num [1:27247] 145 145 145 145 145 ...\n",
      " $ Regionname   : chr [1:27247] \"Northern Metropolitan\" \"Northern Metropolitan\" \"Northern Metropolitan\" \"Northern Metropolitan\" ...\n",
      " $ Propertycount: num [1:27247] 4019 4019 4019 4019 4019 ...\n",
      " - attr(*, \"problems\")= tibble [5 x 5] (S3: tbl_df/tbl/data.frame)\n",
      "  ..$ row     : int [1:5] 18524 26889 29484 29484 29484\n",
      "  ..$ col     : chr [1:5] \"Propertycount\" \"Propertycount\" \"Distance\" \"Postcode\" ...\n",
      "  ..$ expected: chr [1:5] \"a double\" \"a double\" \"a double\" \"a double\" ...\n",
      "  ..$ actual  : chr [1:5] \"#N/A\" \"#N/A\" \"#N/A\" \"#N/A\" ...\n",
      "  ..$ file    : chr [1:5] \"'./data/Melbourne_housing_FULL.csv'\" \"'./data/Melbourne_housing_FULL.csv'\" \"'./data/Melbourne_housing_FULL.csv'\" \"'./data/Melbourne_housing_FULL.csv'\" ...\n"
     ]
    }
   ],
   "source": [
    "str(hfull)"
   ]
  },
  {
   "cell_type": "markdown",
   "metadata": {},
   "source": [
    "A continuación transformaremos las variables que son interpretadas por R como caracteres a factores para poder trabajar más adelante con ellas."
   ]
  },
  {
   "cell_type": "code",
   "execution_count": 12,
   "metadata": {},
   "outputs": [],
   "source": [
    "hfull$Suburb <- as.factor(hfull$Suburb)\n",
    "hfull$Address <- as.factor(hfull$Address)\n",
    "hfull$Type <- as.factor(hfull$Type)\n",
    "hfull$Method <- as.factor(hfull$Method)\n",
    "hfull$SellerG <- as.factor(hfull$SellerG)\n",
    "hfull$Date <- as.factor(hfull$Date)\n",
    "hfull$CouncilArea <- as.factor(hfull$CouncilArea)\n",
    "hfull$Regionname <- as.factor(hfull$Regionname)"
   ]
  },
  {
   "cell_type": "code",
   "execution_count": 13,
   "metadata": {},
   "outputs": [
    {
     "name": "stdout",
     "output_type": "stream",
     "text": [
      "tibble [27,247 x 19] (S3: tbl_df/tbl/data.frame)\n",
      " $ Suburb       : Factor w/ 345 levels \"Abbotsford\",\"Aberfeldie\",..: 1 1 1 1 1 1 1 1 1 1 ...\n",
      " $ Address      : Factor w/ 26751 levels \"1 Aberfeldie Wy\",..: 25618 12163 19858 18372 21398 4546 4462 26665 11087 7786 ...\n",
      " $ Rooms        : num [1:27247] 2 2 3 3 4 2 3 2 3 2 ...\n",
      " $ Type         : Factor w/ 3 levels \"h\",\"t\",\"u\": 1 1 1 1 1 1 1 1 1 2 ...\n",
      " $ Price        : num [1:27247] 1480000 1035000 1465000 850000 1600000 ...\n",
      " $ Method       : Factor w/ 5 levels \"PI\",\"S\",\"SA\",..: 2 2 4 1 5 2 2 2 2 2 ...\n",
      " $ SellerG      : Factor w/ 349 levels \"@Realty\",\"Abercromby's\",..: 33 33 33 33 223 156 223 223 156 156 ...\n",
      " $ Date         : Factor w/ 78 levels \"1/07/2017\",\"10/02/2018\",..: 61 64 65 65 66 71 71 76 76 76 ...\n",
      " $ Distance     : num [1:27247] 2.5 2.5 2.5 2.5 2.5 2.5 2.5 2.5 2.5 2.5 ...\n",
      " $ Postcode     : num [1:27247] 3067 3067 3067 3067 3067 ...\n",
      " $ Bedroom2     : num [1:27247] 2 2 3 3 3 2 4 2 NA NA ...\n",
      " $ Bathroom     : num [1:27247] 1 1 2 2 1 1 2 1 NA NA ...\n",
      " $ Car          : num [1:27247] 1 0 0 1 2 0 0 2 NA NA ...\n",
      " $ Landsize     : num [1:27247] 202 156 134 94 120 181 245 256 NA NA ...\n",
      " $ CouncilArea  : Factor w/ 34 levels \"#N/A\",\"Banyule City Council\",..: 33 33 33 33 33 33 33 33 33 33 ...\n",
      " $ Lattitude    : num [1:27247] -37.8 -37.8 -37.8 -37.8 -37.8 ...\n",
      " $ Longtitude   : num [1:27247] 145 145 145 145 145 ...\n",
      " $ Regionname   : Factor w/ 9 levels \"#N/A\",\"Eastern Metropolitan\",..: 4 4 4 4 4 4 4 4 4 4 ...\n",
      " $ Propertycount: num [1:27247] 4019 4019 4019 4019 4019 ...\n",
      " - attr(*, \"problems\")= tibble [5 x 5] (S3: tbl_df/tbl/data.frame)\n",
      "  ..$ row     : int [1:5] 18524 26889 29484 29484 29484\n",
      "  ..$ col     : chr [1:5] \"Propertycount\" \"Propertycount\" \"Distance\" \"Postcode\" ...\n",
      "  ..$ expected: chr [1:5] \"a double\" \"a double\" \"a double\" \"a double\" ...\n",
      "  ..$ actual  : chr [1:5] \"#N/A\" \"#N/A\" \"#N/A\" \"#N/A\" ...\n",
      "  ..$ file    : chr [1:5] \"'./data/Melbourne_housing_FULL.csv'\" \"'./data/Melbourne_housing_FULL.csv'\" \"'./data/Melbourne_housing_FULL.csv'\" \"'./data/Melbourne_housing_FULL.csv'\" ...\n"
     ]
    }
   ],
   "source": [
    "str(hfull)"
   ]
  },
  {
   "cell_type": "markdown",
   "metadata": {},
   "source": [
    "En primer lugar, estudiaremos la variable de salida **Price**, que hace referencia al precio de la vivienda en Melbourne en dólares australianos (en adelante AUSD). Se trata de una variable continua, por lo que haremos un resumen de las medidas de dispersión y utilizaremos para su representación una curva de densidad. "
   ]
  },
  {
   "cell_type": "code",
   "execution_count": 14,
   "metadata": {},
   "outputs": [
    {
     "data": {
      "text/plain": [
       "    Min.  1st Qu.   Median     Mean  3rd Qu.     Max. \n",
       "   85000   635000   870000  1050173  1295000 11200000 "
      ]
     },
     "metadata": {},
     "output_type": "display_data"
    }
   ],
   "source": [
    "summary(hfull$Price)"
   ]
  },
  {
   "cell_type": "code",
   "execution_count": 15,
   "metadata": {},
   "outputs": [
    {
     "data": {
      "image/png": "[encoded data removed]",
      "text/plain": [
       "plot without title"
      ]
     },
     "metadata": {},
     "output_type": "display_data"
    }
   ],
   "source": [
    "ggplot(hfull,aes(x=Price)) + geom_density(fill=\"steelblue\")"
   ]
  },
  {
   "cell_type": "markdown",
   "metadata": {},
   "source": [
    "En el gráfico se observa que el precio no sigue una distribución normal ya que se trata de una distribución asimétrica con cola derecha, donde el 50% de los valores se encuentran entre 635k y 1.295k AUSD. El precio medio de la vivienda es superior a 1 millón AUSD, aunque es importante comentar que la mediana y la media no coinciden y que entre ellas hay una diferencia de 180k AUSD."
   ]
  },
  {
   "cell_type": "markdown",
   "metadata": {},
   "source": [
    "Estableceremos un primer grupo de variables, relacionadas con la ubicación. Estas variables son **Suburb**, **Address**, **Distance**, **Postcode**, **CouncilArea**, **Lattitude**, **Longtitude** y **Regionname**."
   ]
  },
  {
   "cell_type": "markdown",
   "metadata": {},
   "source": [
    "El área de Melbourne se divide en regiones representadas por la variable **Regionname**. Estas regiones se dividen en áreas más pequeñas denominadas áreas de gobierno local que las encontramos en la variable **CouncilArea**, y cada una de ellas, a su vez, se dividen en suburbios cuya variable es **Suburb**.\n",
    "\n",
    "Cada suburbio **Suburb** está asociado a un código postal **Postcode**, por lo que se trata de dos etiquetas distintas que designan una misma realidad. Hemos eliminado la variable **Postcode** para evitar redundancias."
   ]
  },
  {
   "cell_type": "code",
   "execution_count": 16,
   "metadata": {},
   "outputs": [],
   "source": [
    "hfull$Postcode = NULL "
   ]
  },
  {
   "cell_type": "markdown",
   "metadata": {},
   "source": [
    "La variable **Regionname** es un factor con 9 categorías, mientras que **CouncilArea** tiene 34 y **Suburb** tiene 324, por lo que para estudiar el precio de la vivienda en función del área donde se encuentra hemos decidido utilizar la variable **Regionname** por su mayor sencillez.\n",
    "\n",
    "Dibujamos un diagrama de barras para estudiar la proporción de datos que tenemos para cada categoría. Vemos como la mayoría de viviendas que se han vendido pertenecen a la región Metropolitan mientras que las que pertenecen a la región Victoria son escasas."
   ]
  },
  {
   "cell_type": "code",
   "execution_count": 17,
   "metadata": {},
   "outputs": [
    {
     "data": {
      "image/png": "[encoded data removed]",
      "text/plain": [
       "plot without title"
      ]
     },
     "metadata": {},
     "output_type": "display_data"
    }
   ],
   "source": [
    "ggplot(hfull) + \n",
    "    geom_bar(mapping=aes(x=Regionname), fill=terrain.colors(9), color=\"black\") +\n",
    "    theme(axis.text.x=element_text(angle=90,hjust=1,vjust=0.5))"
   ]
  },
  {
   "cell_type": "markdown",
   "metadata": {},
   "source": [
    "Para estudiar su relación con la variable **Price** realizaremos un boxplot por niveles. Vemos como para los valores superiores todas las regiones contienen valores atípicos y como la región parece tener influencia en el precio de la vivienda, para poder afirmarlo con seguridad habría que estudiar si esta diferencia entre regiones es significativa.\n",
    "\n",
    "Vemos que la distribución en las regiones de Victoria tienen un rango de precios más limitado, mientras que los máximos y mínimos de las regiones de Metropolitan están bastante separados. También se puede observar como los valores medianos de los precios en las regiones de Metropolitan son más elevados que en las regiones de Victoria.\n",
    "\n",
    "Cabe destacar la región Southern Metropolitan que es la que presenta un mayor rango de precios, aparece como la región con el precio mediano más elevado, y además posee una gran cantidad de valores atípicos en el margen superior.\n"
   ]
  },
  {
   "cell_type": "code",
   "execution_count": 18,
   "metadata": {},
   "outputs": [
    {
     "data": {
      "image/png": "[encoded data removed]",
      "text/plain": [
       "plot without title"
      ]
     },
     "metadata": {},
     "output_type": "display_data"
    }
   ],
   "source": [
    "ggplot(hfull) + \n",
    "    geom_boxplot(mapping=aes(x=Regionname, y=Price), fill=heat.colors(9)) + \n",
    "    theme(axis.text.x=element_text(angle=90,hjust=1,vjust=0.5))"
   ]
  },
  {
   "cell_type": "markdown",
   "metadata": {},
   "source": [
    "La variable **Address** es una variable categórica con 26751 niveles, que es igual al número de observaciones, por lo que la dirección es única para cada fila. Por lo tanto no agrega ningún valor al análisis y podremos eliminarla."
   ]
  },
  {
   "cell_type": "code",
   "execution_count": 19,
   "metadata": {},
   "outputs": [],
   "source": [
    "hfull$Address = NULL "
   ]
  },
  {
   "cell_type": "markdown",
   "metadata": {},
   "source": [
    "La variable **Distance** es una variable numérica que nos indica la distancia en kilómetros al centro de la ciudad. Al representar la variable con una curva de densidad vemos que la mayoría de casas se encuentran entre aproximadamente 5 y 10 kilómetros del centro."
   ]
  },
  {
   "cell_type": "code",
   "execution_count": 20,
   "metadata": {},
   "outputs": [
    {
     "name": "stderr",
     "output_type": "stream",
     "text": [
      "Warning message:\n",
      "\"Removed 1 rows containing non-finite values (stat_density).\""
     ]
    },
    {
     "data": {
      "image/png": "[encoded data removed]",
      "text/plain": [
       "plot without title"
      ]
     },
     "metadata": {},
     "output_type": "display_data"
    }
   ],
   "source": [
    "ggplot(hfull) + \n",
    "  geom_density(mapping=aes(x=Distance), color=\"red\", size=1.5)"
   ]
  },
  {
   "cell_type": "markdown",
   "metadata": {},
   "source": [
    "Representamos las dos variables continuas **Distance** y **Price** y ajustamos una recta de regresión lineal. Vemos que la recta tiene algo de pendiente y que ésta es decreciente, lo que nos indica que el precio de la vivienda disminuye al aumentar la distancia al centro. Habría que analizar si esta relación entre ambas variables es en realidad una relación lineal o es de otro tipo, ya que parece que al principio el precio de la vivienda aumenta hasta alcanzar un máximo y a partir de ese punto empieza a decrecer."
   ]
  },
  {
   "cell_type": "code",
   "execution_count": 25,
   "metadata": {},
   "outputs": [
    {
     "name": "stderr",
     "output_type": "stream",
     "text": [
      "`geom_smooth()` using formula 'y ~ x'\n",
      "Warning message:\n",
      "\"Removed 1 rows containing non-finite values (stat_smooth).\"Warning message:\n",
      "\"Removed 1 rows containing missing values (geom_point).\""
     ]
    },
    {
     "data": {
      "image/png": "[encoded data removed]",
      "text/plain": [
       "plot without title"
      ]
     },
     "metadata": {},
     "output_type": "display_data"
    }
   ],
   "source": [
    "ggplot(hfull) +\n",
    "  geom_point(mapping=aes(x=Distance, y=Price), col=\"darkgreen\") +\n",
    "  geom_smooth(mapping=aes(x=Distance, y=Price), method=\"lm\", fill=\"red\")"
   ]
  },
  {
   "cell_type": "markdown",
   "metadata": {},
   "source": [
    "Para estudiar la influencia de las variables **Lattitude** y **Longtitude** en la variable **Price** representamos los puntos correspondientes a la latitud y longitud y asignamos un color en función del precio. En el gráfico no vemos ningún patrón que nos permita extraer conclusiones de cómo se relacionan estas variables."
   ]
  },
  {
   "cell_type": "code",
   "execution_count": 23,
   "metadata": {},
   "outputs": [],
   "source": [
    "options(repr.plot.width = 10, repr.plot.height = 8)"
   ]
  },
  {
   "cell_type": "code",
   "execution_count": 24,
   "metadata": {},
   "outputs": [
    {
     "name": "stderr",
     "output_type": "stream",
     "text": [
      "Warning message:\n",
      "\"Removed 6254 rows containing missing values (geom_point).\""
     ]
    },
    {
     "data": {
      "image/png": "[encoded data removed]",
      "text/plain": [
       "plot without title"
      ]
     },
     "metadata": {},
     "output_type": "display_data"
    }
   ],
   "source": [
    "ggplot(data = hfull, aes(y=Lattitude, x=Longtitude)) + \n",
    "  geom_point(aes(colour=Price)) + \n",
    "  scale_colour_gradient(low = \"yellow\", high = \"red\")"
   ]
  },
  {
   "cell_type": "markdown",
   "metadata": {},
   "source": [
    "Podemos establecer un segundo grupo de variables que son las que están relacionadas con las características de la vivienda. A este grupo pertenecen las variables **Rooms**, **Type**, **Bedroom2**, **Bathroom**, **Car** y **Landsize**.\n",
    "\n",
    "Para analizar la relación entre las variables continuas de este grupo vamos a dibujar una matriz de correlación, donde por encima de la diagonal tendremos unos círculos de colores cuyo tamaño está asociado al valor absoluto de correlación y por debajo de la diagonal se observan los valores exactos de correlación."
   ]
  },
  {
   "cell_type": "code",
   "execution_count": null,
   "metadata": {},
   "outputs": [],
   "source": [
    "my_corrdata = hfull[,c(2, 4, 9, 10, 11, 12)]\n",
    "my_corrdata = my_corrdata[complete.cases(my_corrdata), ]\n",
    "corr = round(cor(my_corrdata),1)\n",
    "corrplot.mixed(corr)"
   ]
  },
  {
   "cell_type": "markdown",
   "metadata": {},
   "source": [
    "En la matriz de correlación observamos como las variables **Rooms** y **Bedroom2** están fuertemente relacionadas, por lo que decidimos eliminar la variable **Bedroom2** de nuestro conjunto de datos ya que contiene una cuarta parte de valores ausentes, mientras que la variable **Rooms** no contiene ningún valor ausente. \n",
    "\n",
    "También observamos como la variable **Bathroom** está relacionada con la variable **Rooms** aunque con un coeficiente de correlación de 0.6 no lo consideramos suficiente para descartar la variable."
   ]
  },
  {
   "cell_type": "code",
   "execution_count": null,
   "metadata": {},
   "outputs": [],
   "source": [
    "hfull$Bedroom2 = NULL "
   ]
  },
  {
   "cell_type": "markdown",
   "metadata": {},
   "source": [
    "La variable que más correlacionada está con el precio es **Rooms**, por lo que estudiaremos como afecta esta variable al precio de la vivienda. La variable **Car** también parece influir aunque en menor medida en el precio de la vivienda, mientras que **Landsize** no parece presentar ninguna influencia.\n",
    "\n",
    "En el siguiente gráfico observamos que cuando el número de habitaciones es menor que seis existe una relación lineal positiva entre el número de habitaciones de la vivienda y su precio."
   ]
  },
  {
   "cell_type": "code",
   "execution_count": null,
   "metadata": {},
   "outputs": [],
   "source": [
    "ggplot(hfull) +\n",
    "  geom_point(mapping=aes(x=Rooms, y=Price), col=\"orange\") +\n",
    "  geom_smooth(mapping=aes(x=Rooms, y=Price), method=\"lm\", fill=\"red\")"
   ]
  },
  {
   "cell_type": "markdown",
   "metadata": {},
   "source": [
    "La variable **Type** se estudiará a parte ya que se trata de una variable categórica. A partir del siguiente gráfico podemos observar que el tipo de vivienda está relacionada con el precio.\n",
    "\n",
    "Se observa como las casas aisladas (representadas en color rojo) son las que mayor precio tienen, seguidas de las casas adosadas (representadas en color verde) y las viviendas colectivas (representadas en color azul) son las de menor precio. El precio medio de una casa aislada es de 1 millón 200 mil dólares, de una casa adosada es de unos 900 mil dólares y un apartamento cuesta aproximadamente de media 600 mil dólares.\n",
    "\n",
    "También se puede observar como muy cerca del centro todas las viviendas son colectivas mientras que las más alejadas son casas aisladas y a una distancia media encontramos todos los tipos de viviendas. \n",
    "\n",
    "\n",
    "Al observar cómo influye la variable **Propertycount** en función de **Price** no observamos ningún patrón que nos indique que el número de casas en cada suburbio esté relacionado con el precio."
   ]
  },
  {
   "cell_type": "code",
   "execution_count": null,
   "metadata": {},
   "outputs": [],
   "source": [
    "ggplot(hfull, aes(x=as.numeric(as.character(Distance)), y=Price)) + \n",
    "  geom_point(aes(colour=Type)) +\n",
    "  xlab(\"Property count\") + \n",
    "  ylab(\"Price\")"
   ]
  },
  {
   "cell_type": "code",
   "execution_count": null,
   "metadata": {},
   "outputs": [],
   "source": [
    "hfull %>% \n",
    "group_by(Type) %>%\n",
    "summarise(Mean = mean(Price, na.rm = T))"
   ]
  },
  {
   "cell_type": "markdown",
   "metadata": {},
   "source": [
    "Las variables relacionadas con el vendedor son **Method** y **ShellerG**."
   ]
  },
  {
   "cell_type": "markdown",
   "metadata": {},
   "source": [
    "La variable **Method** es una variable categórica con 5 niveles. A partir de la representación de curvas de densidad para cada categoría observamos como en general las propiedades vendidas por cada uno de los métodos no difieren mucho. Por lo que podemos decir que los precios de las viviendas con diferentes métodos de venta son relativamente iguales."
   ]
  },
  {
   "cell_type": "code",
   "execution_count": null,
   "metadata": {},
   "outputs": [],
   "source": [
    "ggplot(hfull) +\n",
    "  geom_density(mapping=aes(x=Price, color=Method))"
   ]
  },
  {
   "cell_type": "markdown",
   "metadata": {},
   "source": [
    "En cuanto a la variable **SellerG** es una variable categórica con 349 niveles que nos informa sobre la agencia inmobiliaria que vendió la casa. Al presentar tantos niveles este factor no nos será de gran ayuda para estudiar la variable de salida **Price** por lo que la eliminaremos del modelo."
   ]
  },
  {
   "cell_type": "code",
   "execution_count": null,
   "metadata": {},
   "outputs": [],
   "source": [
    "hfull$SellerG = NULL "
   ]
  },
  {
   "cell_type": "markdown",
   "metadata": {},
   "source": [
    "Otra característica importante a tener en cuenta para estudiar el precio de la vivienda es la fecha en la que se vendió la casa, representada por la variable **Date**. Para ello realizamos la siguiente representación que muestra la evolución del precio conforme a la fecha y dibujamos la línea de tendencia para el precio medio. \n",
    "\n",
    "Aunque parece haber cierta dependencia del precio en función de la época del año y un patrón general de decrecimiento en el precio de la vivienda a lo largo del tiempo sería recomendable utilizar un modelo para series temporales que nos permita estudiar la estacional y la tendencia de esta serie, para ver si realmente el precio de la vivienda varía conforme la época del año y cuál es el comportamiento de esta variable a medida que pasa el tiempo."
   ]
  },
  {
   "cell_type": "code",
   "execution_count": null,
   "metadata": {},
   "outputs": [],
   "source": [
    "hfull$Date <- dmy(as.character(hfull$Date))\n",
    "Price_Date <- hfull[c(\"Suburb\",\"Price\",\"Date\")] %>% na.omit()\n",
    "averPrice_date <- Price_Date %>% \n",
    "    group_by(Date) %>%\n",
    "  summarise(Average = sum(Price)/n())"
   ]
  },
  {
   "cell_type": "code",
   "execution_count": null,
   "metadata": {},
   "outputs": [],
   "source": [
    "ggplot(Price_Date, aes(Date, Price)) +\n",
    "  geom_boxplot(aes(group = Date),color = \"black\",fill = \"maroon\") +\n",
    "  geom_line(aes(Date, Average), data = averPrice_date, color = \"red\", size = 1.3)"
   ]
  },
  {
   "cell_type": "markdown",
   "metadata": {},
   "source": [
    "Como resumen de este análisis exploratorio para estudiar que variables presentan una mayor influencia en el precio de la vivienda en Melbourne extraemos las siguientes conclusiones:\n",
    "\n",
    "Las variables relacionadas con la ubicación de la vivienda tienen influencia en el precio, destacando la variable **Distance** que nos indica una disminución del precio a medida que aumenta la distancia al centro, y la variable **Regionname** que hace referencia al área donde se encuentra la vivienda.\n",
    "\n",
    "Las variables relacionadas con las características de la vivienda también afectan al precio de ésta, sobre todo hay que hacer referencia a las variables **Romms** y **Bathroom**, que nos muestran cómo a mayor número de habitaciones y baños aumenta el precio de la vivienda. La variable **Type** también es una variable relevante, ya que dependiendo de si se trata de una vivienda aislada, un adosado o un apartamento el precio de la vivienda es diferente.\n",
    "\n",
    "Mientras que no se ha encontrado una relación significativa entre las características relacionadas con el vendedor, la fecha en la que se vendió la vivienda representada mediante la variable **Date** también parece influir en el precio medio de la vivienda."
   ]
  }
 ],
 "metadata": {
  "kernelspec": {
   "display_name": "R",
   "language": "R",
   "name": "ir"
  },
  "language_info": {
   "codemirror_mode": "r",
   "file_extension": ".r",
   "mimetype": "text/x-r-source",
   "name": "R",
   "pygments_lexer": "r",
   "version": "3.6.1"
  }
 },
 "nbformat": 4,
 "nbformat_minor": 4
}
